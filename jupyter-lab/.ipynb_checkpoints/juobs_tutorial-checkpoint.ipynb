{
 "cells": [
  {
   "cell_type": "markdown",
   "metadata": {},
   "source": [
    "loading packages"
   ]
  },
  {
   "cell_type": "code",
   "execution_count": null,
   "metadata": {},
   "outputs": [],
   "source": [
    "using Revise, juobs, BDIO, ADerrors, PyPlot, LaTeXStrings"
   ]
  },
  {
   "cell_type": "markdown",
   "metadata": {},
   "source": [
    "paths to mesons.dat, ms1.dat\n"
   ]
  },
  {
   "cell_type": "code",
   "execution_count": null,
   "metadata": {},
   "outputs": [],
   "source": [
    "const path_J303 = \"/Users/ale/Desktop/data/J303/J303r003_k0.1372131_mup0.001512_mup0.00957_mup0.13300_mup0.14000_mup0.14700.mesons.dat\"  \n",
    "const path_J303rwf = \"/Users/ale/Desktop/data/rwf/J303r003.ms1.dat\"\n",
    "\n",
    "const path_N200r000 = \"/Users/ale/Desktop/data/N200/N200r000_k0.1373124_mup0.00242_mup0.010777_mup0.172805_mup0.18190_mup0.190995.mesons.dat\"\n",
    "const path_N200r001 = \"/Users/ale/Desktop/data/N200/N200r001_k0.1373124_mup0.00242_mup0.010777_mup0.172805_mup0.18190_mup0.190995.mesons.dat\"\n",
    "const path_N200r000_rwf = \"/Users/ale/Desktop/data/rwf/N200r000.ms1.dat\"\n",
    "const path_N200r001_rwf = \"/Users/ale/Desktop/data/rwf/N200r001.ms1.dat\"\n",
    "\n"
   ]
  },
  {
   "cell_type": "markdown",
   "metadata": {},
   "source": [
    "Loading data and create primary observables "
   ]
  },
  {
   "cell_type": "code",
   "execution_count": null,
   "metadata": {},
   "outputs": [],
   "source": [
    "## single replica with rw factor (J303)\n",
    "data = read_mesons(path_J303, \"G5\", \"G5\")                        ## read from path_J303 the pp correlator. Return a vector of CData structures\n",
    "rwf_J303 = read_ms1(path_J303rwf)                                ## read from path_J303rwf the rw factors. Return a matrix W[irw, icfg]\n",
    "J303_pp = corr_obs.(data, rw=rwf_J303, L=64)                     ## create primary obs. reweighted. Creates a Corr struct with the given CData struct \n",
    "\n",
    "## dealing with multiple replicas  with rw factors(N200)\n",
    "data1 = read_mesons([path_N200r000, path_N200r001], \"G5\", \"G5\")   ## multiple dispatch in action: same name, different arguments\n",
    "\n",
    "rwf_N200r000 = read_ms1(path_N200r000_rwf)\n",
    "rwf_N200r001 = read_ms1(path_N200r001_rwf)\n",
    "\n",
    "@time N200_pp = corr_obs.(data1, L=48, rw=[rwf_N200r000, rwf_N200r001])  ##use the @time macro to get timing info"
   ]
  },
  {
   "cell_type": "markdown",
   "metadata": {},
   "source": []
  },
  {
   "cell_type": "code",
   "execution_count": null,
   "metadata": {},
   "outputs": [],
   "source": [
    "## exploring the juobs.Corr struct\n",
    "## the observable is accessed with J303_pp[i].obs\n",
    "for i=1:length(J303_pp)\n",
    "    println(\"i = \", i, L\" $\\mu$ values: \", J303_pp[i].mu, \"                gamma structure: \", J303_pp[i].gamma , \"            source: \", J303_pp[i].y0)\n",
    "end"
   ]
  },
  {
   "cell_type": "markdown",
   "metadata": {},
   "source": []
  },
  {
   "cell_type": "markdown",
   "metadata": {},
   "source": [
    "computing effective masses "
   ]
  },
  {
   "cell_type": "code",
   "execution_count": null,
   "metadata": {},
   "outputs": [],
   "source": [
    "plat = [[110,160] for i=1:length(J303_pp)] ## define an array of plateau for each combination of \\mu (J303)\n",
    "plat1 = [[85,115] for i=1:length(N200_pp)] ## define an array of plateau for each combination of \\mu (N200)\n",
    "m_J303 = meff.(J303_pp, plat, pl=true)    ## compute effective masses. The . notation applies the function meff to all the elements of the J303_pp (N200_pp) array of correlators\n",
    "m_N200 = meff.(N200_pp, plat1, pl=false)\n",
    "\n",
    "uwerr.(m_N200)\n",
    "uwerr.(m_J303)\n",
    "\n",
    "println(\"The light-light effective  mass is:\\n\", \" N200: \", m_N200[1], \" \\n J303: \", m_J303[1] )"
   ]
  },
  {
   "cell_type": "markdown",
   "metadata": {},
   "source": []
  },
  {
   "cell_type": "markdown",
   "metadata": {},
   "source": [
    "Decay constants extraction \n"
   ]
  },
  {
   "cell_type": "code",
   "execution_count": null,
   "metadata": {},
   "outputs": [],
   "source": [
    "plat = [[110,160] for i=1:length(J303_pp)] ## define an array of plateaus for each combination of \\mu (J303)\n",
    "plat1 = [[80,110] for i=1:length(N200_pp)] ## define an array of plateaus for each combination of \\mu (N200)\n",
    "\n",
    "#mu_list_J303 = getfield.(J303_pp, :mu)     ## array with all possible values of \\mu\n",
    "#mu_list_N200 = getfield.(N200_pp, :mu)     ## array with all possible values of \\mu\n",
    "\n",
    "f_J303 = dec_const_pcvc.(J303_pp, plat, m_J303, pl=false )  ## array of decay constants for J303\n",
    "f_N200 = dec_const_pcvc.(N200_pp, plat1, m_N200, pl=false )  ## array of decay constants for N200\n",
    "println(\"The light-light decay constant is:\\n\", \" N200: \", f_N200[1], \"\\n J303: \", f_J303[1] )"
   ]
  },
  {
   "cell_type": "markdown",
   "metadata": {},
   "source": []
  },
  {
   "cell_type": "markdown",
   "metadata": {},
   "source": [
    "Constants are stored in the juobs_const file. The t_not values are taken from the scale setting paper by M.Bruno et al.\n",
    "Here we load such file and we express masses in terms of sqrt(8 t_0)"
   ]
  },
  {
   "cell_type": "code",
   "execution_count": null,
   "metadata": {},
   "outputs": [],
   "source": [
    "include(\"/Users/ale/juobs/constants/juobs_const.jl\")\n",
    "am_ll = [m_N200[1], m_J303[1]]         ## array with light light effective masses for the two ensembles\n",
    "beta = [3.55, 3.70]                    ## beta values \n",
    "\n",
    "m_ll = am_ll .*sqrt.(8 * t0.(beta))    ## masses in unit of sqrt(8 t_0). The t0 function returns the value of t0 for a given beta. It is defined in juobs_const\n",
    "uwerr.(m_ll)                           ## run uwerr if you are interested in errors\n",
    "println(\"The light-light mass is:\\n\", \" N200: \", m_ll[1], \" sqrt(8t0) \\n J303: \", m_ll[2], \" sqrt(8t0)\" )"
   ]
  },
  {
   "cell_type": "markdown",
   "metadata": {},
   "source": []
  },
  {
   "cell_type": "markdown",
   "metadata": {},
   "source": [
    "Alternatively, the t0 value ensemble per ensemble may be extracted from the ms.dat file rather than reading the value in juobs_coonst, taken from the scale setting paper. Let's see how to do that"
   ]
  },
  {
   "cell_type": "code",
   "execution_count": null,
   "metadata": {},
   "outputs": [],
   "source": [
    "const path_N200r000_ms = \"/Users/ale/Desktop/data/ms file/N200r000.ms.dat\"\n",
    "const path_N200r001_ms = \"/Users/ale/Desktop/data/ms file/N200r001.ms.dat\"\n",
    "\n",
    "## two replicas N200\n",
    "t1 = read_ms(path_N200r000_ms)                                  ## reads openQCD ms dat files and return a YData struct\n",
    "t2 = read_ms(path_N200r001_ms)\n",
    "\n",
    "t0_N200 = comp_t0([t1,t2], [20, 100], L=48, pl=true, npol=2)             ## computes t0  in a given plateau using the YData struct which contains the energy density of the YM action\n",
    "                                                                        ##A polynomial interpolation in t is performed to find t0, where npol is the degree of the polynomial (linear fit by default)\n",
    "t0_N200_rw = comp_t0([t1,t2] ,[20, 100], L=48, rw=[rwf_N200r000, rwf_N200r001])\n",
    "\n",
    "uwerr(t0_N200)\n",
    "uwerr(t0_N200_rw)\n",
    "\n",
    "t0br = t0(beta[1])\n",
    "uwerr(t0br)\n",
    "print(\"\\n t_0 values for the ensemble N200 : \\n without rwf: \", t0_N200, \" \\n with rwf:    \", t0_N200_rw, \"\\n from Bruno:  \", t0br)\n"
   ]
  },
  {
   "cell_type": "markdown",
   "metadata": {},
   "source": []
  },
  {
   "cell_type": "markdown",
   "metadata": {},
   "source": [
    "Mass derivative shifting applied to derived observables "
   ]
  },
  {
   "cell_type": "code",
   "execution_count": null,
   "metadata": {},
   "outputs": [],
   "source": [
    "sdr0_path = \"/Users/ale/Desktop/data/pbp/N200r000.pbp.dat\"  ## path to the pbp file containing the action derivatives\n",
    "sdr1_path = \"/Users/ale/Desktop/data/pbp/N200r001.pbp.dat\"\n",
    "\n",
    "## reading action derivatives with respect to the light and strange quark masses \n",
    "sdr0 = read_md(sdr0_path) ## vector containing action derivatives respect to the l and s quark masses\n",
    "sdr1 = read_md(sdr1_path)\n",
    "\n",
    "phi4 = 8*t0_N200_rw * ( m_N200[2]^2 + 1/2 * m_N200[1]^2 )            # phi4\n",
    "phi4_ph = 1.11 #   uwreal([1.120, 0.024], \"phi4\")                    # phi4 physical\n",
    "\n",
    "## phi4 derivatives w/ respect to m_l and m_s\n",
    "\n",
    "phi_dml, phi_dms = md_sea(phi4, [sdr0, sdr1])\n",
    "uwerr(phi_dml)\n",
    "uwerr(phi_dms)\n",
    "println( \"d_ml = \", phi_dml, \" d_ms = \", phi_dms)\n",
    "dm = (phi4_ph- phi4) / ( 2 * phi_dml + phi_dms)\n",
    "#uwerr(dm)\n",
    "#println(\"dm is \", dm)\n",
    "\n",
    "## meff derivatives w/ respect to m_l and m_s\n",
    "m_dml, m_dms  = md_sea(m_N200[1], [sdr0, sdr1])\n",
    "\n",
    "uwerr(m_dml)\n",
    "uwerr(m_dms)\n",
    "println( \"m_dml = \", m_dml, \" m_dms = \", m_dms)\n",
    "\n",
    "## compute the shifted pion mass for N200\n",
    "m_shifted = m_N200[1] + 2*value(dm)*value(m_dml) + value(dm)*value(m_dms) \n",
    "uwerr(m_shifted)\n",
    "println(\"shifted mass           \", m_shifted, \"\\nunshifited pion mass   \", m_N200[1])\n"
   ]
  },
  {
   "cell_type": "markdown",
   "metadata": {},
   "source": []
  },
  {
   "cell_type": "markdown",
   "metadata": {},
   "source": [
    "save/load data in BDIO format"
   ]
  },
  {
   "cell_type": "code",
   "execution_count": null,
   "metadata": {},
   "outputs": [],
   "source": [
    "fb = BDIO_open(\"test.bdio\", \"w\") ## open BDIO file in write mode\n",
    "\n",
    "write_uwreal(m_N200[1], fb, 1)   ## writing m_N200\n",
    "write_uwreal(m_J303[1], fb, 2)   ## writing m_J303\n",
    "write_uwreal(f_N200[1], fb, 3)   ## writing f_N200 \n",
    "\n",
    "BDIO_close!(fb)"
   ]
  },
  {
   "cell_type": "code",
   "execution_count": null,
   "metadata": {},
   "outputs": [],
   "source": [
    "fb = BDIO_open(\"test.bdio\", \"r\")     ## open BDIO file in read mode\n",
    "\n",
    "BDIO_seek!(fb)                      ## move to first record\n",
    "m1 = read_uwreal(fb)                ## reading m_N200 \n",
    "\n",
    "BDIO_seek!(fb, 2)                   ## move forward  to third record\n",
    "m2 = read_uwreal(fb)                ## reading m_J303\n",
    "\n",
    "BDIO_seek!(fb, 2)                   ## move  forwward to fifth record\n",
    "f1 = read_uwreal(fb)                ## reading f_N200\n",
    "\n",
    "##check differences\n",
    "println( \" Better be zero: \", m1 - m_N200[1])\n",
    "println( \" Better be zero: \", m2 - m_J303[1])\n",
    "println( \" Better be zero: \", f1 - f_N200[1])\n",
    "BDIO_close!(fb)"
   ]
  },
  {
   "cell_type": "code",
   "execution_count": null,
   "metadata": {},
   "outputs": [],
   "source": [
    "##count the number of record \n",
    "fb = BDIO_open(\"test.bdio\", \"r\")\n",
    "BDIO_seek!(fb, 0)\n",
    "count=0\n",
    "while BDIO_seek!(fb)\n",
    "     count += 1\n",
    "end\n",
    "println(count)\n",
    "BDIO_close!(fb)"
   ]
  },
  {
   "cell_type": "code",
   "execution_count": null,
   "metadata": {},
   "outputs": [],
   "source": [
    "## check the lenght of each record\n",
    "fb = BDIO_open(\"test.bdio\", \"r\")\n",
    "count=0\n",
    "BDIO_seek!(fb,0)\n",
    " while BDIO_seek!(fb)\n",
    "     count += 1\n",
    "     println(\"Record: \", count, \" length: \", BDIO_get_len(fb), \" bytes\")\n",
    " end\n",
    "\n",
    "BDIO_close!(fb)"
   ]
  },
  {
   "cell_type": "markdown",
   "metadata": {},
   "source": [
    "Some issues with BDIO file: the function write_uwreal is suposed to create a new record each time you call it. In this example the function is called three times, hence we expect three different records. For some reason beyond my understanding, we actually have six different records. This is not particularly relevant, just keep in mind to jump 2 records each time you want to move further to the next variable stored, i.e. BDIO_seek!(fb,2)\n",
    "\n",
    "\n"
   ]
  },
  {
   "cell_type": "markdown",
   "metadata": {},
   "source": []
  },
  {
   "cell_type": "markdown",
   "metadata": {},
   "source": [
    "A glampse to the  fitting routine with the LsqFit package  used for non linear fitting. This routine calls the ADerrors.fit_error to propagate the error in fit parameters. The method fit_error is agnostic about how you minimise the chisquare. "
   ]
  },
  {
   "cell_type": "code",
   "execution_count": null,
   "metadata": {},
   "outputs": [],
   "source": [
    "## we want to fit the ll correlator for N200, namely N200_pp[1]\n",
    "\n",
    "@. model(x, p) = p[1]*exp(-p[2]*x) + p[3]*exp(-p[4]*x)   ## create a model function. @. notation applies the model to each element of the array x\n",
    "#@. model(x,p) = p[1] + p[2] * exp(-(p[3]-p[1])*x)\n",
    "\n",
    "source = getfield(N200_pp[1], :y0)                 ## source position\n",
    "ydata = getfield(N200_pp[1], :obs)[source+6:end-5]  ## we consider the ll correlator at the right of the source\n",
    "xdata = collect(1:length(ydata))\n",
    "\n",
    "par = fit_routine(model, xdata, ydata, 4)          ## fitting routine that automatically prints usefull information"
   ]
  },
  {
   "cell_type": "markdown",
   "metadata": {},
   "source": [
    "Plotting fit results \n"
   ]
  },
  {
   "cell_type": "code",
   "execution_count": null,
   "metadata": {},
   "outputs": [],
   "source": [
    "fig = figure()\n",
    "    errorbar(xdata, value.(ydata), yerr=err.(ydata), fmt=\"*\", ms=3)\n",
    "    plot(xdata, model(xdata, value.(par)))\n",
    "display(fig)"
   ]
  },
  {
   "cell_type": "markdown",
   "metadata": {},
   "source": []
  },
  {
   "cell_type": "markdown",
   "metadata": {},
   "source": [
    "TUTORIAL ON THE GEVP \n",
    "\n",
    "If you followed my presentation at EuroPLEx talk, you may remember that I solved several GEVP's using different  local operators.\n",
    "Here we focus on the following GEVP\n",
    "\n",
    "  PP(t)      PP(t+3) \n",
    "  \n",
    "  PP(t+3)     PP(t+6)\n",
    "\n",
    "where we consider the PP correlator only with time shift.\n",
    "The idea for this approach came from Lukas' talk at the Dublin Europlex meeting. You can find the slides at: \n",
    "https://indico.cern.ch/event/965890/contributions/4117130/attachments/2154411/3633546/Dublin2020_Varnhorst.pdf\n",
    "Another reference is : arXiv:1010.0202 [hep-lat] \n"
   ]
  },
  {
   "cell_type": "code",
   "execution_count": null,
   "metadata": {},
   "outputs": [],
   "source": [
    "src = getfield(N200_pp[1], :y0) ## source position\n",
    "\n",
    "## Heavy-Strange\n",
    "hs11 = N200_pp[5].obs[src:end-7]              ## array of PP(t)\n",
    "hs12 = N200_pp[5].obs[src+3:end-4]            ## array of PP(t+3)\n",
    "hs22 = N200_pp[5].obs[src+6:end-1]            ## array of PP(t+6)\n",
    "\n",
    "diag_hs = [hs11, hs22]                         ## correlators in the diagonal\n",
    "subdiag_hs = [hs12]                            ## correlators in the upper diagonal elements\n",
    "mat_hs = get_matrix(diag_hs, subdiag_hs)       ##  array of matrices for all timeslices\n",
    "\n",
    "## Heavy-Heavy\n",
    "hh11 = N200_pp[6].obs[src:end-7]              ## array of PP(t)\n",
    "hh12 = N200_pp[6].obs[src+3:end-4]            ## array of PP(t+3)\n",
    "hh22 = N200_pp[6].obs[src+6:end-1]            ## array of PP(t+6)\n",
    "\n",
    "diag_hh = [hh11, hh22]                        ## correlators in the diagonal\n",
    "subdiag_hh = [hh12]                           ## correlators in the upper diagonal elements\n",
    "mat_hh = get_matrix(diag_hh, subdiag_hh)\n"
   ]
  },
  {
   "cell_type": "code",
   "execution_count": null,
   "metadata": {},
   "outputs": [],
   "source": [
    "## now that we have the matrix, we are ready to  solve the gevp and compute the effective energies\n",
    "\n",
    "eval_hs = getall_eigvals(mat_hs[1:end-1], 2) ## this method solve the gevp for all the matrices in the array mat_hs, taking t0=2\n",
    "eval_hh = getall_eigvals(mat_hh[1:end-1], 2) ## this method solve the gevp for all the matrices in the array mat_hh, taking t0=2\n",
    "\n",
    "en_hs = energies(eval_hs)                    ## this method computes the energies given the eigenvalues \n",
    "en_hh = energies(eval_hh)                    ## it returns a 1-d array with the length equal to the dimension of the matrix. Here it is 2.  \n",
    "\n",
    "fig = figure()\n",
    "    errorbar(collect(1:length(en_hs[1])), value.(en_hs[1]), yerr=err.(en_hs[1]), fmt=\"s\", ms=3, mfc=\"none\", mew=0.8,  elinewidth=0.5, mec=\"royalblue\",ecolor=\"royalblue\", capsize=2, label=L\"$am_{D_s}$\")\n",
    "    errorbar(collect(1:length(en_hh[1])), value.(en_hh[1]), yerr=err.(en_hh[1]), fmt=\"s\", ms=3, mfc=\"none\", mew=0.8,  elinewidth=0.5, mec=\"tomato\",ecolor=\"tomato\", capsize=2, label=L\"$am_{\\eta_c}$\")\n",
    "    xlabel(L\"$t$\")\n",
    "    ylabel(L\"$am^{eff}$\")\n",
    "    title(\"Effective masses for N200\")\n",
    "    legend()\n",
    "    ylim(0.62, 1)\n",
    "display(fig)"
   ]
  },
  {
   "cell_type": "code",
   "execution_count": null,
   "metadata": {},
   "outputs": [],
   "source": [
    "\n",
    "m_hs = plat_av(en_hs[1], [20,40])\n",
    "m_hh = plat_av(en_hh[1], [18,45])\n",
    "uwerr(m_hs)\n",
    "uwerr(m_hh)\n",
    "\n",
    "println(\"Heavy strange masses: \\n standard: \", m_N200[5], \"\\n gevp :    \", m_hs)\n",
    "println(\"\\nHeavy heavy masses: \\n standard: \", m_N200[6], \"\\n gevp :    \", m_hh)\n"
   ]
  },
  {
   "cell_type": "markdown",
   "metadata": {},
   "source": [
    "Finally, let us explore how to extract the eigenvectors, usefull for the determination of decay constants. \n",
    "The procedure is similar to the eigenvalues, but here we will keep delta_t = t-t0 fixed, as proposed in arXiv:0902.1265v2 [hep-lat]\n",
    "\n",
    "Also, they can be used to build the correlators that will have the largest overlap with the n^th state as reported in arXiv:1803.09673v1"
   ]
  },
  {
   "cell_type": "code",
   "execution_count": null,
   "metadata": {},
   "outputs": [],
   "source": [
    "evec = getall_eigvecs(mat_hh[1:end-1], 3 ) # where \\Delta t = t - t_0 = 3\n",
    "\n",
    "# check eigenvectors\n",
    "'''\n",
    "aux = [uwdot(evec[i][:,1] , evec[i+1][:,1])^2 for i=1:length(evec)-1]\n",
    "uwerr.(aux)\n",
    "fig = figure()\n",
    "    errorbar(collect(1:length(aux)), value.(aux), yerr=err.(aux), fmt=\"*\")\n",
    "    ylim(0.99995, 1.00005)\n",
    "    \n",
    "display(fig)\n",
    "'''"
   ]
  },
  {
   "cell_type": "markdown",
   "metadata": {},
   "source": [
    "So far you have seen two automatic method implemented in juobs_linalg, namely getall_eigvecs and getall_eigvals.\n",
    "There might be times when you'd like to solve GEVP problems  for a single matrix, or with different settings rather than the one described for the above method.\n",
    "If this is the case you have at your disposal a bunch of raw methods that act on a single matrix rather than a list of matrix.\n",
    "They are :\n",
    "\n",
    "            uweigvals(a)    # compute evals of a \n",
    "            uweigvals(a,b)  # compute generalised evals of a,b \n",
    "            \n",
    "            uweigvecs(a)    # compute evecs of a \n",
    "            uweigvecs(a,b)  # compute generalised evecs of a,b \n",
    "            \n",
    "            uweigen(a)      # compute evals and evecs of a \n",
    "            uweigen(a,b)    # compute generalised evals and evecs of a,b \n",
    "            \n",
    "Here a,b are matrix of uwreal objects.\n",
    "A more complete documentation can be found in the html page."
   ]
  },
  {
   "cell_type": "code",
   "execution_count": null,
   "metadata": {},
   "outputs": [],
   "source": [
    "a_mat = mat_hh[10]\n",
    "b_mat = mat_hh[30]\n",
    "println(\"This is a matrix of uwreal \")\n",
    "a_mat"
   ]
  },
  {
   "cell_type": "code",
   "execution_count": null,
   "metadata": {},
   "outputs": [],
   "source": [
    "uweigvals(a_mat)"
   ]
  },
  {
   "cell_type": "code",
   "execution_count": null,
   "metadata": {},
   "outputs": [],
   "source": [
    "uweigvals(a_mat, b_mat)"
   ]
  },
  {
   "cell_type": "markdown",
   "metadata": {},
   "source": [
    "And so on with uweigvecs() and uweigen()"
   ]
  }
 ],
 "metadata": {
  "kernelspec": {
   "display_name": "Julia 1.4.2",
   "language": "julia",
   "name": "julia-1.4"
  },
  "language_info": {
   "file_extension": ".jl",
   "mimetype": "application/julia",
   "name": "julia",
   "version": "1.4.2"
  }
 },
 "nbformat": 4,
 "nbformat_minor": 4
}
