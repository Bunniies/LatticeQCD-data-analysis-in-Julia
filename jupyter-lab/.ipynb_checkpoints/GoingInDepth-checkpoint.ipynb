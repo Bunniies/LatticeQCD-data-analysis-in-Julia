{
 "cells": [
  {
   "cell_type": "markdown",
   "metadata": {},
   "source": [
    "# __Intro to Julia: some more advanced topics__\n",
    "\n",
    "__Index:__\n",
    "\n",
    "1. Functions\n",
    "    1. How to declare a function \n",
    "    2. Duck-typing in Julia\n",
    "    3. Mutating vs. non-mutating functions\n",
    "    4. Multiple dispatch\n",
    "    5. Broadcast and higher order functions\n",
    "2. Packages\n",
    "3. Type Declaration \n",
    "4. Plotting \n",
    "5. Linear Algebra"
   ]
  },
  {
   "cell_type": "markdown",
   "metadata": {},
   "source": [
    "## __Functions__\n",
    "\n",
    "Let us start with how to declare a function in Julia.\n",
    "\n",
    "This can be done inline:"
   ]
  },
  {
   "cell_type": "code",
   "execution_count": null,
   "metadata": {},
   "outputs": [],
   "source": [
    "f(x) = x^3"
   ]
  },
  {
   "cell_type": "markdown",
   "metadata": {},
   "source": [
    "Or in a long form definition:"
   ]
  },
  {
   "cell_type": "code",
   "execution_count": 2,
   "metadata": {},
   "outputs": [
    {
     "data": {
      "text/plain": [
       "sayhi (generic function with 1 method)"
      ]
     },
     "execution_count": 2,
     "metadata": {},
     "output_type": "execute_result"
    }
   ],
   "source": [
    "function sayhi(name)\n",
    "    println(\"Hi $name, how you doing?\")\n",
    "end"
   ]
  },
  {
   "cell_type": "markdown",
   "metadata": {},
   "source": [
    "We can call either this functions like "
   ]
  },
  {
   "cell_type": "code",
   "execution_count": 3,
   "metadata": {},
   "outputs": [
    {
     "name": "stdout",
     "output_type": "stream",
     "text": [
      "Hi TorVergata, how you doing?\n"
     ]
    }
   ],
   "source": [
    "sayhi(\"TorVergata\")"
   ]
  },
  {
   "cell_type": "code",
   "execution_count": 4,
   "metadata": {},
   "outputs": [
    {
     "data": {
      "text/plain": [
       "1000"
      ]
     },
     "execution_count": 4,
     "metadata": {},
     "output_type": "execute_result"
    }
   ],
   "source": [
    "f(10)"
   ]
  },
  {
   "cell_type": "markdown",
   "metadata": {},
   "source": [
    "## Duck-typing in Julia"
   ]
  },
  {
   "cell_type": "markdown",
   "metadata": {},
   "source": [
    "The idea is: _\"If it quacks like a duck, it's a duck\"_\n",
    "\n",
    "Or in other world Julia functions will work on whatever inputs make sense.\n",
    "\n",
    "For examples, _sayhi_ works with integer"
   ]
  },
  {
   "cell_type": "code",
   "execution_count": 5,
   "metadata": {},
   "outputs": [
    {
     "name": "stdout",
     "output_type": "stream",
     "text": [
      "Hi 55595472, how you doing?\n"
     ]
    }
   ],
   "source": [
    "sayhi(55595472)"
   ]
  },
  {
   "cell_type": "markdown",
   "metadata": {},
   "source": [
    "And f will work on a matrix:"
   ]
  },
  {
   "cell_type": "code",
   "execution_count": 6,
   "metadata": {},
   "outputs": [
    {
     "data": {
      "text/plain": [
       "3×3 Array{Float64,2}:\n",
       " 0.223954  0.361421   0.69124\n",
       " 0.746165  0.0987551  0.137799\n",
       " 0.405062  0.423134   0.795508"
      ]
     },
     "execution_count": 6,
     "metadata": {},
     "output_type": "execute_result"
    }
   ],
   "source": [
    "A = rand(3,3) \n",
    "A"
   ]
  },
  {
   "cell_type": "code",
   "execution_count": 9,
   "metadata": {},
   "outputs": [
    {
     "data": {
      "text/plain": [
       "3×3 Array{Float64,2}:\n",
       " 0.745224  0.576447  1.07121\n",
       " 0.577274  0.410941  0.759906\n",
       " 0.94814   0.726104  1.34855"
      ]
     },
     "execution_count": 9,
     "metadata": {},
     "output_type": "execute_result"
    }
   ],
   "source": [
    "f(A)\n",
    "\n"
   ]
  },
  {
   "cell_type": "markdown",
   "metadata": {},
   "source": [
    "f will also work with a string because the * operator is defined for string inputs as string concatenation"
   ]
  },
  {
   "cell_type": "code",
   "execution_count": 10,
   "metadata": {},
   "outputs": [
    {
     "data": {
      "text/plain": [
       "\"HelloHelloHello\""
      ]
     },
     "execution_count": 10,
     "metadata": {},
     "output_type": "execute_result"
    }
   ],
   "source": [
    "f(\"Hello\")"
   ]
  },
  {
   "cell_type": "markdown",
   "metadata": {},
   "source": [
    "On the other hand, f will not work on a vector. Unlike A^2, which is well-defined, the meaning of v^2 for a vector, v, is not a well-defined algebraic operation.\n"
   ]
  },
  {
   "cell_type": "code",
   "execution_count": 11,
   "metadata": {},
   "outputs": [
    {
     "ename": "MethodError",
     "evalue": "MethodError: no method matching ^(::Array{Float64,1}, ::Int64)\nClosest candidates are:\n  ^(!Matched::Float16, ::Integer) at math.jl:885\n  ^(!Matched::Regex, ::Integer) at regex.jl:712\n  ^(!Matched::Missing, ::Integer) at missing.jl:155\n  ...",
     "output_type": "error",
     "traceback": [
      "MethodError: no method matching ^(::Array{Float64,1}, ::Int64)\nClosest candidates are:\n  ^(!Matched::Float16, ::Integer) at math.jl:885\n  ^(!Matched::Regex, ::Integer) at regex.jl:712\n  ^(!Matched::Missing, ::Integer) at missing.jl:155\n  ...",
      "",
      "Stacktrace:",
      " [1] macro expansion at ./none:0 [inlined]",
      " [2] literal_pow at ./none:0 [inlined]",
      " [3] f(::Array{Float64,1}) at ./In[1]:1",
      " [4] top-level scope at In[11]:2"
     ]
    }
   ],
   "source": [
    "v = rand(3)\n",
    "f(v)"
   ]
  },
  {
   "cell_type": "markdown",
   "metadata": {},
   "source": [
    "As we will see later on, this error can be prevented by employing the so called broadcast operator \".\"."
   ]
  },
  {
   "cell_type": "markdown",
   "metadata": {},
   "source": [
    "## Mutating vs. non-mutating functions\n",
    "\n",
    "By convention, functions followed by ! modify their input and functions lacking ! do not.\n",
    "\n",
    "For example, let's look at the difference between sort and sort!"
   ]
  },
  {
   "cell_type": "code",
   "execution_count": 12,
   "metadata": {},
   "outputs": [
    {
     "data": {
      "text/plain": [
       "3-element Array{Int64,1}:\n",
       " 1\n",
       " 3\n",
       " 9"
      ]
     },
     "execution_count": 12,
     "metadata": {},
     "output_type": "execute_result"
    }
   ],
   "source": [
    "v = [3, 9, 1]\n",
    "sort(v)"
   ]
  },
  {
   "cell_type": "code",
   "execution_count": 13,
   "metadata": {},
   "outputs": [
    {
     "data": {
      "text/plain": [
       "3-element Array{Int64,1}:\n",
       " 3\n",
       " 9\n",
       " 1"
      ]
     },
     "execution_count": 13,
     "metadata": {},
     "output_type": "execute_result"
    }
   ],
   "source": [
    "v"
   ]
  },
  {
   "cell_type": "markdown",
   "metadata": {},
   "source": [
    "sort(v) returns a sorted array that contains the same values as v, but v is left unchanged.\n",
    "\n",
    "On the other hand, using sort!(v) will modify v itself."
   ]
  },
  {
   "cell_type": "code",
   "execution_count": 14,
   "metadata": {},
   "outputs": [
    {
     "data": {
      "text/plain": [
       "3-element Array{Int64,1}:\n",
       " 1\n",
       " 3\n",
       " 9"
      ]
     },
     "execution_count": 14,
     "metadata": {},
     "output_type": "execute_result"
    }
   ],
   "source": [
    "sort!(v)\n",
    "v"
   ]
  },
  {
   "cell_type": "markdown",
   "metadata": {},
   "source": [
    "## Multiple dispatch\n",
    "\n",
    "A key feature of Julia is multiple dispatch. This means that Julia uses all of a function's arguments to choose which method should be invoked.\n",
    "\n",
    "In particular, multiple dispatch works on types, and the latter can be defined using the ::Type signifier:"
   ]
  },
  {
   "cell_type": "code",
   "execution_count": 15,
   "metadata": {},
   "outputs": [
    {
     "name": "stdout",
     "output_type": "stream",
     "text": [
      "Output with integers: 6\n",
      "Output with float:    8.0\n"
     ]
    }
   ],
   "source": [
    "g(x::Int64, y::Int64) = x + y #this function takes integers as input\n",
    "\n",
    "g(x::Float64, y::Float64) = x * y #this function takes floats as input\n",
    "\n",
    "println(\"Output with integers: \", g(2,4))\n",
    "println(\"Output with float:    \",g(2.0,4.0))"
   ]
  },
  {
   "cell_type": "markdown",
   "metadata": {},
   "source": [
    "To sum up, a generic function is the abstract concept associated with a particular operation.\n",
    "\n",
    "For example, the generic function + represents the concept of addition.\n",
    "\n",
    "A method is a specific implementation of a generic function for particular argument types.\n",
    "\n",
    "For example, + has methods that accept floating point numbers, integers, matrices, etc.\n",
    "\n",
    "We can use the methods to see how many methods there are for g."
   ]
  },
  {
   "cell_type": "code",
   "execution_count": 16,
   "metadata": {},
   "outputs": [
    {
     "data": {
      "text/html": [
       "# 2 methods for generic function <b>g</b>:<ul><li> g(x::<b>Float64</b>, y::<b>Float64</b>) in Main at In[15]:3</li> <li> g(x::<b>Int64</b>, y::<b>Int64</b>) in Main at In[15]:1</li> </ul>"
      ],
      "text/plain": [
       "# 2 methods for generic function \"g\":\n",
       "[1] g(x::Float64, y::Float64) in Main at In[15]:3\n",
       "[2] g(x::Int64, y::Int64) in Main at In[15]:1"
      ]
     },
     "execution_count": 16,
     "metadata": {},
     "output_type": "execute_result"
    }
   ],
   "source": [
    "methods(g)"
   ]
  },
  {
   "cell_type": "code",
   "execution_count": 19,
   "metadata": {},
   "outputs": [],
   "source": [
    "methods(+);"
   ]
  },
  {
   "cell_type": "markdown",
   "metadata": {},
   "source": [
    "Multiple dispatch makes our code generic and fast. Our code can be generic and flexible because we can write code in terms of abstract operations such as addition and multiplication, rather than in terms of specific implementations. At the same time, our code runs quickly because Julia is able to call efficient methods for the relevant types.\n",
    "\n",
    "To see which method is being dispatched when we call a generic function, we can use the @which macro:"
   ]
  },
  {
   "cell_type": "code",
   "execution_count": 20,
   "metadata": {},
   "outputs": [
    {
     "data": {
      "text/html": [
       "g(x::<b>Int64</b>, y::<b>Int64</b>) in Main at In[15]:1"
      ],
      "text/plain": [
       "g(x::Int64, y::Int64) in Main at In[15]:1"
      ]
     },
     "execution_count": 20,
     "metadata": {},
     "output_type": "execute_result"
    }
   ],
   "source": [
    "@which g(1,2)"
   ]
  },
  {
   "cell_type": "markdown",
   "metadata": {},
   "source": [
    "## Broadcasting and higher order function \n",
    "\n",
    "An example of  a \"higher-order\" function in Julia is the map function. It takes a function as one of its input arguments and then applies it to every element of the data structure you pass to it."
   ]
  },
  {
   "cell_type": "code",
   "execution_count": 21,
   "metadata": {},
   "outputs": [
    {
     "data": {
      "text/plain": [
       "4-element Array{Int64,1}:\n",
       "  1\n",
       "  4\n",
       "  9\n",
       " 16"
      ]
     },
     "execution_count": 21,
     "metadata": {},
     "output_type": "execute_result"
    }
   ],
   "source": [
    "f(x) = x * x\n",
    "map(f, [1, 2, 3, 4])"
   ]
  },
  {
   "cell_type": "code",
   "execution_count": 22,
   "metadata": {},
   "outputs": [
    {
     "data": {
      "text/plain": [
       "3-element Array{String,1}:\n",
       " \"ciaociao\"\n",
       " \"TorTor\"\n",
       " \"VergataVergata\""
      ]
     },
     "execution_count": 22,
     "metadata": {},
     "output_type": "execute_result"
    }
   ],
   "source": [
    "map(f, [\"ciao\", \"Tor\", \"Vergata\"])"
   ]
  },
  {
   "cell_type": "markdown",
   "metadata": {},
   "source": [
    "We can also pass to map an anonymous function ranther than a named function  "
   ]
  },
  {
   "cell_type": "code",
   "execution_count": 23,
   "metadata": {},
   "outputs": [
    {
     "data": {
      "text/plain": [
       "4-element Array{Int64,1}:\n",
       "  1\n",
       "  8\n",
       " 27\n",
       " 64"
      ]
     },
     "execution_count": 23,
     "metadata": {},
     "output_type": "execute_result"
    }
   ],
   "source": [
    "map(x -> x^3, [1,2,3,4])"
   ]
  },
  {
   "cell_type": "markdown",
   "metadata": {},
   "source": [
    "The broadcast function is another higher order function like map, but it is actually a generalization of map. so it can do everything map can do and more.\n",
    "\n",
    "A syntactic notation for calling the broadcast function is to place a \".\" between the ma,e of the function you want to broadcast and its input arguments.\n",
    "To give you an idea, let's apply the function f to a vector using \".\""
   ]
  },
  {
   "cell_type": "code",
   "execution_count": 24,
   "metadata": {},
   "outputs": [
    {
     "data": {
      "text/plain": [
       "10-element Array{Int64,1}:\n",
       "   1\n",
       "   4\n",
       "   9\n",
       "  16\n",
       "  25\n",
       "  36\n",
       "  49\n",
       "  64\n",
       "  81\n",
       " 100"
      ]
     },
     "execution_count": 24,
     "metadata": {},
     "output_type": "execute_result"
    }
   ],
   "source": [
    "v = collect(1:10)\n",
    "f.(v)"
   ]
  },
  {
   "cell_type": "markdown",
   "metadata": {},
   "source": [
    "Now let us look at the differences between f(A) and f.(A) when A is a matrix "
   ]
  },
  {
   "cell_type": "code",
   "execution_count": 25,
   "metadata": {},
   "outputs": [
    {
     "data": {
      "text/plain": [
       "3×3 Array{Int64,2}:\n",
       " 2  5   8\n",
       " 4  7  10\n",
       " 6  9  12"
      ]
     },
     "execution_count": 25,
     "metadata": {},
     "output_type": "execute_result"
    }
   ],
   "source": [
    "A = [ 2*i + 3*j for i in 1:3, j in 0:2]"
   ]
  },
  {
   "cell_type": "code",
   "execution_count": 26,
   "metadata": {},
   "outputs": [
    {
     "data": {
      "text/plain": [
       "3×3 Array{Int64,2}:\n",
       "  72  117  162\n",
       "  96  159  222\n",
       " 120  201  282"
      ]
     },
     "execution_count": 26,
     "metadata": {},
     "output_type": "execute_result"
    }
   ],
   "source": [
    "# f(A) = A^2 = A * A\n",
    "f(A)"
   ]
  },
  {
   "cell_type": "code",
   "execution_count": 27,
   "metadata": {},
   "outputs": [
    {
     "data": {
      "text/plain": [
       "3×3 Array{Int64,2}:\n",
       "  4  25   64\n",
       " 16  49  100\n",
       " 36  81  144"
      ]
     },
     "execution_count": 27,
     "metadata": {},
     "output_type": "execute_result"
    }
   ],
   "source": [
    "# f.(A) contains the squares of all entries of A!\n",
    "f.(A)\n"
   ]
  },
  {
   "cell_type": "markdown",
   "metadata": {},
   "source": [
    "In general, the \".\" notation for broadcasting allows us to write relatively complex elementwise expressions in a very simple way"
   ]
  },
  {
   "cell_type": "code",
   "execution_count": 28,
   "metadata": {},
   "outputs": [
    {
     "data": {
      "text/plain": [
       "3×3 Array{Float64,2}:\n",
       " 3.0      5.16      8.0625\n",
       " 4.25     7.08163  10.04\n",
       " 6.11111  9.04938  12.0278"
      ]
     },
     "execution_count": 28,
     "metadata": {},
     "output_type": "execute_result"
    }
   ],
   "source": [
    "A .+ 4* f.(A) ./ f.(A.^2)"
   ]
  },
  {
   "cell_type": "markdown",
   "metadata": {},
   "source": [
    "which is equivalent ( but much more user friendly) to "
   ]
  },
  {
   "cell_type": "code",
   "execution_count": 29,
   "metadata": {},
   "outputs": [
    {
     "data": {
      "text/plain": [
       "3×3 Array{Float64,2}:\n",
       " 3.0      5.16      8.0625\n",
       " 4.25     7.08163  10.04\n",
       " 6.11111  9.04938  12.0278"
      ]
     },
     "execution_count": 29,
     "metadata": {},
     "output_type": "execute_result"
    }
   ],
   "source": [
    "broadcast(x -> x +4*f(x)/f(x^2), A)"
   ]
  },
  {
   "cell_type": "markdown",
   "metadata": {},
   "source": [
    "## __Packages__\n",
    "\n",
    "Julia has over 2000 registered packages, making packages a huge part of the Julia ecosystem.\n",
    "\n",
    "Even so, the package ecosystem still has some growing to do. Notably, we have first class function calls to other languages, providing excellent foreign function interfaces. We can easily call into python or R, for example, with PyCall or Rcall.\n",
    "\n",
    "This means that you don't have to wait until the Julia ecosystem is fully mature, and that moving to Julia doesn't mean you have to give up your favorite package/library from another language!\n",
    "\n",
    "To see all available packages, check out\n",
    "\n",
    "https://juliapackages.com or https://juliahub.com/ui/Packages\n",
    "\n",
    "For now, let's learn how to use a package.\n",
    "\n",
    "The first time you use a package on a given Julia installation, you need to use the package manager Pkg to explicitly add it:"
   ]
  },
  {
   "cell_type": "code",
   "execution_count": 30,
   "metadata": {},
   "outputs": [
    {
     "name": "stderr",
     "output_type": "stream",
     "text": [
      "\u001b[32m\u001b[1m   Updating\u001b[22m\u001b[39m registry at `~/.julia/registries/General`\n"
     ]
    },
    {
     "name": "stdout",
     "output_type": "stream",
     "text": [
      "\u001b[?25l    "
     ]
    },
    {
     "name": "stderr",
     "output_type": "stream",
     "text": [
      "\u001b[32m\u001b[1m   Updating\u001b[22m\u001b[39m git-repo `https://github.com/JuliaRegistries/General.git`\n"
     ]
    },
    {
     "name": "stdout",
     "output_type": "stream",
     "text": []
    },
    {
     "name": "stdout",
     "output_type": "stream",
     "text": [
      "\u001b[2K\u001b[?25h"
     ]
    },
    {
     "name": "stderr",
     "output_type": "stream",
     "text": [
      "\u001b[32m\u001b[1m  Resolving\u001b[22m\u001b[39m package versions...\n",
      "\u001b[32m\u001b[1m  Installed\u001b[22m\u001b[39m Example ─ v0.5.3\n",
      "\u001b[32m\u001b[1m   Updating\u001b[22m\u001b[39m `~/.julia/environments/v1.4/Project.toml`\n",
      " \u001b[90m [7876af07]\u001b[39m\u001b[92m + Example v0.5.3\u001b[39m\n",
      "\u001b[32m\u001b[1m   Updating\u001b[22m\u001b[39m `~/.julia/environments/v1.4/Manifest.toml`\n",
      " \u001b[90m [7876af07]\u001b[39m\u001b[92m + Example v0.5.3\u001b[39m\n"
     ]
    }
   ],
   "source": [
    "using Pkg\n",
    "Pkg.add(\"Example\")"
   ]
  },
  {
   "cell_type": "markdown",
   "metadata": {},
   "source": [
    "Every time you use Julia (start a new session at the REPL, or open a notebook for the first time, for example), you load the package with the using keyword\n"
   ]
  },
  {
   "cell_type": "code",
   "execution_count": 31,
   "metadata": {},
   "outputs": [
    {
     "name": "stderr",
     "output_type": "stream",
     "text": [
      "┌ Info: Precompiling Example [7876af07-990d-54b4-ab0e-23690620f79a]\n",
      "└ @ Base loading.jl:1260\n"
     ]
    }
   ],
   "source": [
    "using Example"
   ]
  },
  {
   "cell_type": "markdown",
   "metadata": {},
   "source": [
    "\n",
    "\n",
    "In the source code of Example.jl at https://github.com/JuliaLang/Example.jl/blob/master/src/Example.jl we see the following function declared\n",
    "\n",
    "hello(who::String) = \"Hello, $who\"\n",
    "\n",
    "Having loaded Example, we should now be able to call hello\n"
   ]
  },
  {
   "cell_type": "code",
   "execution_count": 32,
   "metadata": {},
   "outputs": [
    {
     "data": {
      "text/plain": [
       "\"Hello, I am a method from the Example.jl package\""
      ]
     },
     "execution_count": 32,
     "metadata": {},
     "output_type": "execute_result"
    }
   ],
   "source": [
    "hello(\"I am a method from the Example.jl package\")"
   ]
  },
  {
   "cell_type": "markdown",
   "metadata": {},
   "source": [
    "## __Type Declaration__\n",
    "\n",
    "A type is what in many other languages is an \"object\". If that is a foreign concept, thing of a type as a thing which has named components. A type is the idea for what the thing is, while an instantiation of the type is a specific one. For example, we can think of a book as having an author and a model.\n",
    "\n",
    "In Julia we would define the book type as follow"
   ]
  },
  {
   "cell_type": "code",
   "execution_count": 34,
   "metadata": {},
   "outputs": [],
   "source": [
    "mutable struct Book\n",
    "    author::String\n",
    "    title::String\n",
    "end\n",
    "#=\n",
    "specifying the type of the arguments typically enhance\n",
    "Julia's performance\n",
    "=#"
   ]
  },
  {
   "cell_type": "code",
   "execution_count": 35,
   "metadata": {},
   "outputs": [
    {
     "data": {
      "text/plain": [
       "Book(\"Primo Levi\", \"Se questo e' un uomo\")"
      ]
     },
     "execution_count": 35,
     "metadata": {},
     "output_type": "execute_result"
    }
   ],
   "source": [
    "mybook = Book(\"Primo Levi\", \"Se questo e' un uomo\")"
   ]
  },
  {
   "cell_type": "markdown",
   "metadata": {},
   "source": [
    "We can grab the \"fields\" of the Book type by using the . syntax:"
   ]
  },
  {
   "cell_type": "code",
   "execution_count": 36,
   "metadata": {},
   "outputs": [
    {
     "data": {
      "text/plain": [
       "\"Primo Levi\""
      ]
     },
     "execution_count": 36,
     "metadata": {},
     "output_type": "execute_result"
    }
   ],
   "source": [
    "mybook.author"
   ]
  },
  {
   "cell_type": "markdown",
   "metadata": {},
   "source": [
    "We can also define a custom pretty-printing for a user defined type: "
   ]
  },
  {
   "cell_type": "code",
   "execution_count": 37,
   "metadata": {},
   "outputs": [],
   "source": [
    "Base.show(io::IO, b::Book) = print(io, \"The author of \", b.title, \" is \", b.author)"
   ]
  },
  {
   "cell_type": "code",
   "execution_count": 38,
   "metadata": {},
   "outputs": [
    {
     "name": "stdout",
     "output_type": "stream",
     "text": [
      "The author of Se questo e' un uomo is Primo Levi\n"
     ]
    }
   ],
   "source": [
    "println(mybook)"
   ]
  },
  {
   "cell_type": "markdown",
   "metadata": {},
   "source": [
    "For sure, we can define more complex types where we explicitly code a constructor method:"
   ]
  },
  {
   "cell_type": "code",
   "execution_count": 40,
   "metadata": {},
   "outputs": [],
   "source": [
    "mutable struct MyStruct\n",
    "    name::String\n",
    "    m::Matrix\n",
    "    \n",
    "    function MyStruct(_name::String, _m::Matrix)\n",
    "        a = new()\n",
    "        a.name = _name\n",
    "        a.m = _m\n",
    "        return a\n",
    "    end\n",
    "    \n",
    "    function MyStruct(_name::String, _m::Matrix, _m1::Matrix)  # multiple dispatch constructor\n",
    "        a = new()\n",
    "        a.name = _name\n",
    "        a.m = _m * _m1\n",
    "        return a\n",
    "    end\n",
    "end"
   ]
  },
  {
   "cell_type": "code",
   "execution_count": 47,
   "metadata": {},
   "outputs": [
    {
     "data": {
      "text/plain": [
       "MyStruct(\"first constructor\", [3.0 3.0; 3.0 3.0])"
      ]
     },
     "execution_count": 47,
     "metadata": {},
     "output_type": "execute_result"
    }
   ],
   "source": [
    "test = MyStruct(\"first constructor\", fill(3.0, (2,2)))"
   ]
  },
  {
   "cell_type": "code",
   "execution_count": 48,
   "metadata": {},
   "outputs": [
    {
     "data": {
      "text/plain": [
       "MyStruct(\"second constructor\", [12.0 12.0; 12.0 12.0])"
      ]
     },
     "execution_count": 48,
     "metadata": {},
     "output_type": "execute_result"
    }
   ],
   "source": [
    "test1 = MyStruct(\"second constructor\", fill(3.0, (2,2)), fill(2.0, (2,2)))"
   ]
  },
  {
   "cell_type": "code",
   "execution_count": 49,
   "metadata": {},
   "outputs": [
    {
     "data": {
      "text/html": [
       "# 2 methods for type constructor:<ul><li> MyStruct(_name::<b>String</b>, _m::<b>Array{T,2} where T</b>) in Main at In[40]:6</li> <li> MyStruct(_name::<b>String</b>, _m::<b>Array{T,2} where T</b>, _m1::<b>Array{T,2} where T</b>) in Main at In[40]:13</li> </ul>"
      ],
      "text/plain": [
       "# 2 methods for type constructor:\n",
       "[1] MyStruct(_name::String, _m::Array{T,2} where T) in Main at In[40]:6\n",
       "[2] MyStruct(_name::String, _m::Array{T,2} where T, _m1::Array{T,2} where T) in Main at In[40]:13"
      ]
     },
     "execution_count": 49,
     "metadata": {},
     "output_type": "execute_result"
    }
   ],
   "source": [
    "methods(MyStruct)"
   ]
  },
  {
   "cell_type": "markdown",
   "metadata": {},
   "source": [
    "There are three big elements that distinguish Julia implementation from a pure Object-Oriented paradigm:\n",
    "\n",
    "1. Firstly, in Julia you do not associate functions to a type. So, you do not call a function over a method (myobj.func(x,y)) but rather you pass the object as a parameter (func(myobj, x, y));\n",
    "\n",
    "2. In order to extend the behaviour of any object, Julia doesn't use inheritance (only abstract classes can be inherited) but rather composition (a field of the subtype is of the higher type, allowing access to its fields). I personally believe that this is a bit a limit in the expressiveness of the language, as the code can not consider directly different concepts of relations between objects (e.g. Person->Student specialisation, Person->Arm composition, Person->Shoes weak relation );\n",
    "\n",
    "3. Multiple-inheritance is not supported (yet).\n",
    "\n",
    "\n",
    "Some useful type-related functions:"
   ]
  },
  {
   "cell_type": "code",
   "execution_count": 53,
   "metadata": {},
   "outputs": [
    {
     "data": {
      "text/plain": [
       "AbstractFloat"
      ]
     },
     "execution_count": 53,
     "metadata": {},
     "output_type": "execute_result"
    }
   ],
   "source": [
    "supertype(Float64) # returns the parent types of a type"
   ]
  },
  {
   "cell_type": "code",
   "execution_count": 59,
   "metadata": {},
   "outputs": [
    {
     "data": {
      "text/plain": [
       "4-element Array{Any,1}:\n",
       " BigFloat\n",
       " Float16\n",
       " Float32\n",
       " Float64"
      ]
     },
     "execution_count": 59,
     "metadata": {},
     "output_type": "execute_result"
    }
   ],
   "source": [
    "subtypes(AbstractFloat) # Lists all children of a type"
   ]
  },
  {
   "cell_type": "code",
   "execution_count": 60,
   "metadata": {},
   "outputs": [
    {
     "data": {
      "text/plain": [
       "(:author, :title)"
      ]
     },
     "execution_count": 60,
     "metadata": {},
     "output_type": "execute_result"
    }
   ],
   "source": [
    "fieldnames(Book) # Queries all the fields of a structure "
   ]
  },
  {
   "cell_type": "code",
   "execution_count": 61,
   "metadata": {},
   "outputs": [
    {
     "data": {
      "text/plain": [
       "true"
      ]
     },
     "execution_count": 61,
     "metadata": {},
     "output_type": "execute_result"
    }
   ],
   "source": [
    "isa(mybook, Book) # check if  mybook is of type Book"
   ]
  },
  {
   "cell_type": "code",
   "execution_count": 62,
   "metadata": {},
   "outputs": [
    {
     "data": {
      "text/plain": [
       "Book"
      ]
     },
     "execution_count": 62,
     "metadata": {},
     "output_type": "execute_result"
    }
   ],
   "source": [
    "typeof(mybook) # Returns the type of mybook"
   ]
  },
  {
   "cell_type": "markdown",
   "metadata": {},
   "source": [
    "## __Plotting__\n",
    "\n",
    "There are few different ways to plot in Julia:\n",
    "1. Plots.jl\n",
    "2. GR.jl\n",
    "3. PyPlot.jl\n",
    "\n",
    "Personally I always use PyPlot, which is basically a wrapper around the python matplotlib library"
   ]
  },
  {
   "cell_type": "code",
   "execution_count": 63,
   "metadata": {},
   "outputs": [
    {
     "name": "stderr",
     "output_type": "stream",
     "text": [
      "\u001b[32m\u001b[1m  Resolving\u001b[22m\u001b[39m package versions...\n",
      "\u001b[32m\u001b[1m  Installed\u001b[22m\u001b[39m Libiconv_jll ─ v1.16.0+8\n",
      "\u001b[32m\u001b[1m  Installed\u001b[22m\u001b[39m XML2_jll ───── v2.9.10+3\n",
      "\u001b[32m\u001b[1m  Installed\u001b[22m\u001b[39m ZipFile ────── v0.9.4\n",
      "\u001b[32m\u001b[1m  Installed\u001b[22m\u001b[39m EzXML ──────── v1.1.0\n",
      "\u001b[32m\u001b[1m  Installed\u001b[22m\u001b[39m XLSX ───────── v0.7.8\n",
      "######################################################################### 100,0%\n",
      "######################################################################### 100,0%\n",
      "\u001b[32m\u001b[1m   Updating\u001b[22m\u001b[39m `~/.julia/environments/v1.4/Project.toml`\n",
      " \u001b[90m [fdbf4ff8]\u001b[39m\u001b[92m + XLSX v0.7.8\u001b[39m\n",
      "\u001b[32m\u001b[1m   Updating\u001b[22m\u001b[39m `~/.julia/environments/v1.4/Manifest.toml`\n",
      " \u001b[90m [8f5d6c58]\u001b[39m\u001b[92m + EzXML v1.1.0\u001b[39m\n",
      " \u001b[90m [94ce4f54]\u001b[39m\u001b[92m + Libiconv_jll v1.16.0+8\u001b[39m\n",
      " \u001b[90m [fdbf4ff8]\u001b[39m\u001b[92m + XLSX v0.7.8\u001b[39m\n",
      " \u001b[90m [02c8fc9c]\u001b[39m\u001b[92m + XML2_jll v2.9.10+3\u001b[39m\n",
      " \u001b[90m [a5390f91]\u001b[39m\u001b[92m + ZipFile v0.9.4\u001b[39m\n",
      "┌ Info: Precompiling XLSX [fdbf4ff8-1666-58a4-91e7-1b58723a45e0]\n",
      "└ @ Base loading.jl:1260\n"
     ]
    }
   ],
   "source": [
    "\n",
    "Pkg.add(\"XLSX\")\n",
    "using PyPlot, XLSX"
   ]
  },
  {
   "cell_type": "code",
   "execution_count": 64,
   "metadata": {},
   "outputs": [],
   "source": [
    "xf = XLSX.readxlsx(\"flowers.xlsx\")\n",
    "sh = xf[\"Full-flowering date in Kyoto\"]\n",
    "aa = sh[:];"
   ]
  },
  {
   "cell_type": "code",
   "execution_count": 65,
   "metadata": {},
   "outputs": [
    {
     "data": {
      "image/png": "[encoded data removed]",
      "text/plain": [
       "Figure(PyObject <Figure size 640x480 with 1 Axes>)"
      ]
     },
     "metadata": {},
     "output_type": "display_data"
    },
    {
     "data": {
      "text/plain": [
       "PyObject <matplotlib.legend.Legend object at 0x14f041670>"
      ]
     },
     "execution_count": 65,
     "metadata": {},
     "output_type": "execute_result"
    }
   ],
   "source": [
    "ad_aux = aa[1:1210,1]\n",
    "day_aux = aa[1:1210,2]\n",
    "idx = findall(!ismissing, day_aux)\n",
    "\n",
    "\n",
    "\n",
    "ad = ad_aux[idx]\n",
    "day = day_aux[idx]\n",
    "\n",
    "moving_average(vs,n) = [sum(@view vs[i:(i+n-1)])/n for i in 1:(length(vs)-(n-1))]\n",
    "\n",
    "av = moving_average(day, 7)\n",
    "\n",
    "scatter(ad, day, s=5, label=\"Peak bloom\")\n",
    "scatter(ad[7:end], av, s=10, label=\"Moving average\")\n",
    "fill_between(ad[7:end], av .-2, av .+2, alpha=0.3, color=\"red\")\n",
    "title(\"Cherry flowering date in Kyoto\")\n",
    "xlabel(\"Years\")\n",
    "ylabel(\"Days of the year\")\n",
    "legend()"
   ]
  },
  {
   "cell_type": "code",
   "execution_count": 72,
   "metadata": {},
   "outputs": [
    {
     "data": {
      "image/png": "[encoded data removed]",
      "text/plain": [
       "Figure(PyObject <Figure size 640x480 with 1 Axes>)"
      ]
     },
     "metadata": {},
     "output_type": "display_data"
    },
    {
     "data": {
      "text/plain": [
       "(PyObject <matplotlib.lines.Line2D object at 0x156d120a0>, (), (PyObject <matplotlib.collections.LineCollection object at 0x156d12550>,))"
      ]
     },
     "execution_count": 72,
     "metadata": {},
     "output_type": "execute_result"
    }
   ],
   "source": [
    "##errorbar plots\n",
    "\n",
    "x = collect(1:50)\n",
    "f(x) = exp.(-x) .+ exp.(-50 .+x)\n",
    "err = randn(50)*0.1\n",
    "\n",
    "errorbar(x, f(x), err , fmt=\"*\")\n"
   ]
  },
  {
   "cell_type": "markdown",
   "metadata": {},
   "source": [
    "## __Linear Algebra__\n",
    "\n",
    "Let us define a random matrix and a vector of ones:"
   ]
  },
  {
   "cell_type": "code",
   "execution_count": 73,
   "metadata": {},
   "outputs": [
    {
     "data": {
      "text/plain": [
       "4×4 Array{Int64,2}:\n",
       " 3  1  4  4\n",
       " 2  2  4  3\n",
       " 1  1  3  3\n",
       " 2  3  2  2"
      ]
     },
     "execution_count": 73,
     "metadata": {},
     "output_type": "execute_result"
    }
   ],
   "source": [
    "A = rand(1:4, 4, 4)"
   ]
  },
  {
   "cell_type": "code",
   "execution_count": 74,
   "metadata": {},
   "outputs": [
    {
     "data": {
      "text/plain": [
       "4-element Array{Float64,1}:\n",
       " 1.0\n",
       " 1.0\n",
       " 1.0\n",
       " 1.0"
      ]
     },
     "execution_count": 74,
     "metadata": {},
     "output_type": "execute_result"
    }
   ],
   "source": [
    "x = fill(1.0, 4)"
   ]
  },
  {
   "cell_type": "code",
   "execution_count": 75,
   "metadata": {},
   "outputs": [
    {
     "data": {
      "text/plain": [
       "4-element Array{Float64,1}:\n",
       " 12.0\n",
       " 11.0\n",
       "  8.0\n",
       "  9.0"
      ]
     },
     "execution_count": 75,
     "metadata": {},
     "output_type": "execute_result"
    }
   ],
   "source": [
    "# Multiplication \n",
    "b = A * x"
   ]
  },
  {
   "cell_type": "code",
   "execution_count": 76,
   "metadata": {},
   "outputs": [
    {
     "data": {
      "text/plain": [
       "4×4 LinearAlgebra.Adjoint{Int64,Array{Int64,2}}:\n",
       " 3  2  1  2\n",
       " 1  2  1  3\n",
       " 4  4  3  2\n",
       " 4  3  3  2"
      ]
     },
     "execution_count": 76,
     "metadata": {},
     "output_type": "execute_result"
    }
   ],
   "source": [
    "# transposition \n",
    "A' # = transpose(A)"
   ]
  },
  {
   "cell_type": "code",
   "execution_count": 77,
   "metadata": {},
   "outputs": [
    {
     "data": {
      "text/plain": [
       "4×4 Array{Int64,2}:\n",
       " 18  14  27  25\n",
       " 14  15  21  19\n",
       " 27  21  45  41\n",
       " 25  19  41  38"
      ]
     },
     "execution_count": 77,
     "metadata": {},
     "output_type": "execute_result"
    }
   ],
   "source": [
    "# transposed multiplication \n",
    "A'A"
   ]
  },
  {
   "cell_type": "code",
   "execution_count": 78,
   "metadata": {},
   "outputs": [
    {
     "data": {
      "text/plain": [
       "4-element Array{Float64,1}:\n",
       " 1.0\n",
       " 0.9999999999999998\n",
       " 0.9999999999999996\n",
       " 1.0000000000000004"
      ]
     },
     "execution_count": 78,
     "metadata": {},
     "output_type": "execute_result"
    }
   ],
   "source": [
    "# solving the linear system Ax=b for square A\n",
    "A\\b"
   ]
  },
  {
   "cell_type": "markdown",
   "metadata": {},
   "source": [
    "While much of linear algebra is available in Julia by default (as shown above), there's a standard library named LinearAlgebra that brings in many more relevant names and functions. In particular, it provides factorizations and some structured matrix types. As with all packages, you can bring these additional features into your session with a using LinearAlgebra."
   ]
  },
  {
   "cell_type": "code",
   "execution_count": 79,
   "metadata": {},
   "outputs": [],
   "source": [
    "using LinearAlgebra"
   ]
  },
  {
   "cell_type": "markdown",
   "metadata": {},
   "source": [
    "__LU factorizations__"
   ]
  },
  {
   "cell_type": "code",
   "execution_count": 80,
   "metadata": {},
   "outputs": [
    {
     "data": {
      "text/plain": [
       "LU{Float64,Array{Float64,2}}\n",
       "L factor:\n",
       "4×4 Array{Float64,2}:\n",
       " 1.0       0.0       0.0       0.0\n",
       " 0.666667  1.0       0.0       0.0\n",
       " 0.333333  0.285714  1.0       0.0\n",
       " 0.666667  0.571429  0.923077  1.0\n",
       "U factor:\n",
       "4×4 Array{Float64,2}:\n",
       " 3.0  1.0       4.0        4.0\n",
       " 0.0  2.33333  -0.666667  -0.666667\n",
       " 0.0  0.0       1.85714    1.85714\n",
       " 0.0  0.0       0.0       -1.0"
      ]
     },
     "execution_count": 80,
     "metadata": {},
     "output_type": "execute_result"
    }
   ],
   "source": [
    "Alu = lu(A) "
   ]
  },
  {
   "cell_type": "code",
   "execution_count": 83,
   "metadata": {},
   "outputs": [
    {
     "name": "stdout",
     "output_type": "stream",
     "text": [
      "[1.0 0.0 0.0 0.0; 0.0 0.0 0.0 1.0; 0.0 0.0 1.0 0.0; 0.0 1.0 0.0 0.0]\n",
      "[3.0 1.0 4.0 4.0; 0.0 2.3333333333333335 -0.6666666666666665 -0.6666666666666665; 0.0 0.0 1.8571428571428572 1.8571428571428572; 0.0 0.0 0.0 -1.0]\n",
      "[1.0 0.0 0.0 0.0; 0.6666666666666666 1.0 0.0 0.0; 0.3333333333333333 0.28571428571428575 1.0 0.0; 0.6666666666666666 0.5714285714285715 0.9230769230769231 1.0]\n"
     ]
    },
    {
     "data": {
      "text/plain": [
       "LU{Float64,Array{Float64,2}}\n",
       "L factor:\n",
       "4×4 Array{Float64,2}:\n",
       " 1.0       0.0       0.0       0.0\n",
       " 0.666667  1.0       0.0       0.0\n",
       " 0.333333  0.285714  1.0       0.0\n",
       " 0.666667  0.571429  0.923077  1.0\n",
       "U factor:\n",
       "4×4 Array{Float64,2}:\n",
       " 3.0  1.0       4.0        4.0\n",
       " 0.0  2.33333  -0.666667  -0.666667\n",
       " 0.0  0.0       1.85714    1.85714\n",
       " 0.0  0.0       0.0       -1.0"
      ]
     },
     "execution_count": 83,
     "metadata": {},
     "output_type": "execute_result"
    }
   ],
   "source": [
    "println(Alu.P)\n",
    "println(Alu.U)\n",
    "println(Alu.L)\n"
   ]
  },
  {
   "cell_type": "code",
   "execution_count": 84,
   "metadata": {},
   "outputs": [
    {
     "data": {
      "text/plain": [
       "4-element Array{Float64,1}:\n",
       " 1.0\n",
       " 0.9999999999999998\n",
       " 0.9999999999999996\n",
       " 1.0000000000000004"
      ]
     },
     "execution_count": 84,
     "metadata": {},
     "output_type": "execute_result"
    }
   ],
   "source": [
    "# Julia can also dispatch methods on factorization objects\n",
    "Alu\\b"
   ]
  },
  {
   "cell_type": "code",
   "execution_count": 85,
   "metadata": {},
   "outputs": [
    {
     "data": {
      "text/plain": [
       "true"
      ]
     },
     "execution_count": 85,
     "metadata": {},
     "output_type": "execute_result"
    }
   ],
   "source": [
    "# we can also compute the determinant \n",
    "det(A) == det(Alu)"
   ]
  },
  {
   "cell_type": "markdown",
   "metadata": {},
   "source": [
    "__QR factorizations__"
   ]
  },
  {
   "cell_type": "code",
   "execution_count": 86,
   "metadata": {},
   "outputs": [
    {
     "data": {
      "text/plain": [
       "LinearAlgebra.QRCompactWY{Float64,Array{Float64,2}}\n",
       "Q factor:\n",
       "4×4 LinearAlgebra.QRCompactWYQ{Float64,Array{Float64,2}}:\n",
       " -0.707107   0.657596   0.235702   0.109599\n",
       " -0.471405  -0.219199  -0.471405  -0.712396\n",
       " -0.235702  -0.109599  -0.707107   0.657596\n",
       " -0.471405  -0.712396   0.471405   0.219199\n",
       "R factor:\n",
       "4×4 Array{Float64,2}:\n",
       " -4.24264  -3.29983  -6.36396  -5.89256\n",
       "  0.0      -2.02759   0.0       0.219199\n",
       "  0.0       0.0      -2.12132  -1.64992\n",
       "  0.0       0.0       0.0       0.712396"
      ]
     },
     "execution_count": 86,
     "metadata": {},
     "output_type": "execute_result"
    }
   ],
   "source": [
    "Aqr = qr(A)\n",
    "#similarly to LU we can access Aqr.Q and Aqr.R"
   ]
  },
  {
   "cell_type": "markdown",
   "metadata": {},
   "source": [
    "__Eigendecompositions__\n"
   ]
  },
  {
   "cell_type": "code",
   "execution_count": 87,
   "metadata": {},
   "outputs": [
    {
     "data": {
      "text/plain": [
       "Eigen{Complex{Float64},Complex{Float64},Array{Complex{Float64},2},Array{Complex{Float64},1}}\n",
       "values:\n",
       "4-element Array{Complex{Float64},1}:\n",
       " -0.3565358895955007 - 1.0603589190804354im\n",
       " -0.3565358895955007 + 1.0603589190804354im\n",
       "  1.0781288892998147 + 0.0im\n",
       "   9.634942889891182 + 0.0im\n",
       "vectors:\n",
       "4×4 Array{Complex{Float64},2}:\n",
       "   0.35038+0.106856im    0.35038-0.106856im    -0.84725+0.0im  0.591222+0.0im\n",
       " 0.0316004+0.356036im  0.0316004-0.356036im    0.313045+0.0im  0.537289+0.0im\n",
       "  0.423066-0.271558im   0.423066+0.271558im    0.419468+0.0im  0.380655+0.0im\n",
       " -0.696655-0.0im       -0.696655+0.0im       -0.0906525+0.0im  0.465703+0.0im"
      ]
     },
     "execution_count": 87,
     "metadata": {},
     "output_type": "execute_result"
    }
   ],
   "source": [
    "Aeig = eigen(A)"
   ]
  },
  {
   "cell_type": "code",
   "execution_count": 88,
   "metadata": {},
   "outputs": [
    {
     "data": {
      "text/plain": [
       "4-element Array{Complex{Float64},1}:\n",
       " -0.3565358895955007 - 1.0603589190804354im\n",
       " -0.3565358895955007 + 1.0603589190804354im\n",
       "  1.0781288892998147 + 0.0im\n",
       "   9.634942889891182 + 0.0im"
      ]
     },
     "execution_count": 88,
     "metadata": {},
     "output_type": "execute_result"
    }
   ],
   "source": [
    "Aeig.values"
   ]
  },
  {
   "cell_type": "code",
   "execution_count": 89,
   "metadata": {},
   "outputs": [
    {
     "data": {
      "text/plain": [
       "4×4 Array{Complex{Float64},2}:\n",
       "   0.35038+0.106856im    0.35038-0.106856im    -0.84725+0.0im  0.591222+0.0im\n",
       " 0.0316004+0.356036im  0.0316004-0.356036im    0.313045+0.0im  0.537289+0.0im\n",
       "  0.423066-0.271558im   0.423066+0.271558im    0.419468+0.0im  0.380655+0.0im\n",
       " -0.696655-0.0im       -0.696655+0.0im       -0.0906525+0.0im  0.465703+0.0im"
      ]
     },
     "execution_count": 89,
     "metadata": {},
     "output_type": "execute_result"
    }
   ],
   "source": [
    "Aeig.vectors"
   ]
  },
  {
   "cell_type": "code",
   "execution_count": null,
   "metadata": {},
   "outputs": [],
   "source": []
  }
 ],
 "metadata": {
  "kernelspec": {
   "display_name": "Julia 1.4.2",
   "language": "julia",
   "name": "julia-1.4"
  },
  "language_info": {
   "file_extension": ".jl",
   "mimetype": "application/julia",
   "name": "julia",
   "version": "1.4.2"
  }
 },
 "nbformat": 4,
 "nbformat_minor": 2
}
